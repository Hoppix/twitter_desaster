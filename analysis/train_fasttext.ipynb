{
 "cells": [
  {
   "cell_type": "code",
   "execution_count": 18,
   "metadata": {},
   "outputs": [],
   "source": [
    "import fasttext"
   ]
  },
  {
   "cell_type": "code",
   "execution_count": 19,
   "metadata": {},
   "outputs": [],
   "source": [
    "MODEL_NAME = \"fasttext_tweet_disaster_text_base\"\n",
    "#MODEL_NAME = \"fasttext_tweet_disaster_text_keyword\"\n",
    "#MODEL_NAME = \"fasttext_tweet_disaster_text_location\"\n",
    "#MODEL_NAME = \"fasttext_tweet_disaster_text_keyword_location\""
   ]
  },
  {
   "cell_type": "code",
   "execution_count": 20,
   "metadata": {},
   "outputs": [
    {
     "name": "stderr",
     "output_type": "stream",
     "text": [
      "Read 0M words\n",
      "Number of words:  27150\n",
      "Number of labels: 2\n",
      "Progress: 100.0% words/sec/thread:  363139 lr:  0.000000 avg.loss:  0.436037 ETA:   0h 0m 0s\n"
     ]
    }
   ],
   "source": [
    "model = fasttext.train_supervised(input=f\"../data/{MODEL_NAME}.train\")\n",
    "model.save_model(f\"../model/{MODEL_NAME}\")"
   ]
  }
 ],
 "metadata": {
  "kernelspec": {
   "display_name": "venv",
   "language": "python",
   "name": "python3"
  },
  "language_info": {
   "codemirror_mode": {
    "name": "ipython",
    "version": 3
   },
   "file_extension": ".py",
   "mimetype": "text/x-python",
   "name": "python",
   "nbconvert_exporter": "python",
   "pygments_lexer": "ipython3",
   "version": "3.8.10"
  },
  "orig_nbformat": 4
 },
 "nbformat": 4,
 "nbformat_minor": 2
}
