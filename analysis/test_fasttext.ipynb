{
 "cells": [
  {
   "cell_type": "code",
   "execution_count": 40,
   "metadata": {},
   "outputs": [],
   "source": [
    "import fasttext\n",
    "import pandas as pd"
   ]
  },
  {
   "cell_type": "code",
   "execution_count": 41,
   "metadata": {},
   "outputs": [
    {
     "name": "stderr",
     "output_type": "stream",
     "text": [
      "Warning : `load_model` does not return WordVectorModel or SupervisedModel any more, but a `FastText` object which is very similar.\n"
     ]
    },
    {
     "data": {
      "text/plain": [
       "(('__label__disaster',), array([0.9665522]))"
      ]
     },
     "execution_count": 41,
     "metadata": {},
     "output_type": "execute_result"
    }
   ],
   "source": [
    "model = fasttext.load_model(\"../model/fasttext_tweet_disaster_text_base\")\n",
    "model.predict(\"this is horrible omg those poor people\")"
   ]
  },
  {
   "cell_type": "code",
   "execution_count": 42,
   "metadata": {},
   "outputs": [
    {
     "data": {
      "text/plain": [
       "(6090, 0.9274220032840722, 0.9274220032840722)"
      ]
     },
     "execution_count": 42,
     "metadata": {},
     "output_type": "execute_result"
    }
   ],
   "source": [
    "model.test(\"../data/train_fasttext.valid\")"
   ]
  },
  {
   "cell_type": "code",
   "execution_count": 43,
   "metadata": {},
   "outputs": [],
   "source": [
    "submission_df = pd.DataFrame(columns=[\"id\", \"target\"])\n",
    "submission_df.set_index(\"id\")\n",
    "\n",
    "test_df = pd.read_csv(\"../data/test.csv\")\n",
    "\n",
    "for index, row in test_df.iterrows():\n",
    "    text = row[\"text\"].strip().replace('\\n', ' ')\n",
    "\n",
    "    prediction = model.predict(text)\n",
    "    \n",
    "    target = 0\n",
    "    if prediction[0][0] == \"__label__disaster\":\n",
    "        target = 1\n",
    "\n",
    "    entry = {\"id\": row[\"id\"], \"target\": target}\n",
    "    submission_df = pd.concat([submission_df, pd.DataFrame([entry])], ignore_index=True)\n",
    "\n",
    "\n",
    "submission_df.to_csv(\"../data/fasttext_tweet_disaster_text_base_submission.csv\", index=False)\n"
   ]
  }
 ],
 "metadata": {
  "kernelspec": {
   "display_name": "venv",
   "language": "python",
   "name": "python3"
  },
  "language_info": {
   "codemirror_mode": {
    "name": "ipython",
    "version": 3
   },
   "file_extension": ".py",
   "mimetype": "text/x-python",
   "name": "python",
   "nbconvert_exporter": "python",
   "pygments_lexer": "ipython3",
   "version": "3.8.10"
  },
  "orig_nbformat": 4
 },
 "nbformat": 4,
 "nbformat_minor": 2
}
