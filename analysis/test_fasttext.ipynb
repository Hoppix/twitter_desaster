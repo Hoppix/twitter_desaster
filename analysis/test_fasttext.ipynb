{
 "cells": [
  {
   "cell_type": "code",
   "execution_count": 29,
   "metadata": {},
   "outputs": [],
   "source": [
    "import fasttext\n",
    "import pandas as pd\n",
    "import matplotlib as plt"
   ]
  },
  {
   "cell_type": "code",
   "execution_count": 30,
   "metadata": {},
   "outputs": [],
   "source": [
    "MODEL_NAME = \"fasttext_tweet_disaster_text_base\" # (6090, 0.9213464696223317, 0.9213464696223317)\n",
    "#MODEL_NAME = \"fasttext_tweet_disaster_text_keyword\" # (6090, 0.9121510673234812, 0.9121510673234812)\n",
    "#MODEL_NAME = \"fasttext_tweet_disaster_text_location\" # (6090, 0.9116584564860427, 0.9116584564860427)\n",
    "#MODEL_NAME = \"fasttext_tweet_disaster_text_keyword_location\" # (6090, 0.8978653530377668, 0.8978653530377668)"
   ]
  },
  {
   "cell_type": "code",
   "execution_count": 31,
   "metadata": {},
   "outputs": [
    {
     "name": "stderr",
     "output_type": "stream",
     "text": [
      "Warning : `load_model` does not return WordVectorModel or SupervisedModel any more, but a `FastText` object which is very similar.\n"
     ]
    },
    {
     "data": {
      "text/plain": [
       "(('__label__nondisaster',), array([0.52777958]))"
      ]
     },
     "execution_count": 31,
     "metadata": {},
     "output_type": "execute_result"
    }
   ],
   "source": [
    "model = fasttext.load_model(f\"../model/{MODEL_NAME}\")\n",
    "model.predict(\"this is awesome omg those people\")"
   ]
  },
  {
   "cell_type": "code",
   "execution_count": 32,
   "metadata": {},
   "outputs": [
    {
     "data": {
      "text/plain": [
       "(6090, 0.9121510673234812, 0.9121510673234812)"
      ]
     },
     "execution_count": 32,
     "metadata": {},
     "output_type": "execute_result"
    }
   ],
   "source": [
    "model.test(f\"../data/{MODEL_NAME}.valid\")"
   ]
  },
  {
   "cell_type": "code",
   "execution_count": 33,
   "metadata": {},
   "outputs": [
    {
     "data": {
      "text/html": [
       "<div>\n",
       "<style scoped>\n",
       "    .dataframe tbody tr th:only-of-type {\n",
       "        vertical-align: middle;\n",
       "    }\n",
       "\n",
       "    .dataframe tbody tr th {\n",
       "        vertical-align: top;\n",
       "    }\n",
       "\n",
       "    .dataframe thead th {\n",
       "        text-align: right;\n",
       "    }\n",
       "</style>\n",
       "<table border=\"1\" class=\"dataframe\">\n",
       "  <thead>\n",
       "    <tr style=\"text-align: right;\">\n",
       "      <th></th>\n",
       "      <th>id</th>\n",
       "      <th>target</th>\n",
       "      <th>text</th>\n",
       "      <th>confidence</th>\n",
       "    </tr>\n",
       "  </thead>\n",
       "  <tbody>\n",
       "    <tr>\n",
       "      <th>0</th>\n",
       "      <td>0</td>\n",
       "      <td>1</td>\n",
       "      <td>Just happened a terrible car crash</td>\n",
       "      <td>0.957635</td>\n",
       "    </tr>\n",
       "    <tr>\n",
       "      <th>1</th>\n",
       "      <td>2</td>\n",
       "      <td>0</td>\n",
       "      <td>Heard about #earthquake is different cities, s...</td>\n",
       "      <td>0.582115</td>\n",
       "    </tr>\n",
       "    <tr>\n",
       "      <th>2</th>\n",
       "      <td>3</td>\n",
       "      <td>1</td>\n",
       "      <td>there is a forest fire at spot pond, geese are...</td>\n",
       "      <td>0.726500</td>\n",
       "    </tr>\n",
       "    <tr>\n",
       "      <th>3</th>\n",
       "      <td>9</td>\n",
       "      <td>0</td>\n",
       "      <td>Apocalypse lighting. #Spokane #wildfires</td>\n",
       "      <td>0.818285</td>\n",
       "    </tr>\n",
       "    <tr>\n",
       "      <th>4</th>\n",
       "      <td>11</td>\n",
       "      <td>1</td>\n",
       "      <td>Typhoon Soudelor kills 28 in China and Taiwan</td>\n",
       "      <td>0.968380</td>\n",
       "    </tr>\n",
       "    <tr>\n",
       "      <th>...</th>\n",
       "      <td>...</td>\n",
       "      <td>...</td>\n",
       "      <td>...</td>\n",
       "      <td>...</td>\n",
       "    </tr>\n",
       "    <tr>\n",
       "      <th>3258</th>\n",
       "      <td>10861</td>\n",
       "      <td>0</td>\n",
       "      <td>EARTHQUAKE SAFETY LOS ANGELES ÛÒ SAFETY FASTE...</td>\n",
       "      <td>0.824930</td>\n",
       "    </tr>\n",
       "    <tr>\n",
       "      <th>3259</th>\n",
       "      <td>10865</td>\n",
       "      <td>0</td>\n",
       "      <td>Storm in RI worse than last hurricane. My city...</td>\n",
       "      <td>0.587110</td>\n",
       "    </tr>\n",
       "    <tr>\n",
       "      <th>3260</th>\n",
       "      <td>10868</td>\n",
       "      <td>1</td>\n",
       "      <td>Green Line derailment in Chicago http://t.co/U...</td>\n",
       "      <td>0.997382</td>\n",
       "    </tr>\n",
       "    <tr>\n",
       "      <th>3261</th>\n",
       "      <td>10874</td>\n",
       "      <td>1</td>\n",
       "      <td>MEG issues Hazardous Weather Outlook (HWO) htt...</td>\n",
       "      <td>0.956606</td>\n",
       "    </tr>\n",
       "    <tr>\n",
       "      <th>3262</th>\n",
       "      <td>10875</td>\n",
       "      <td>1</td>\n",
       "      <td>#CityofCalgary has activated its Municipal Eme...</td>\n",
       "      <td>0.660768</td>\n",
       "    </tr>\n",
       "  </tbody>\n",
       "</table>\n",
       "<p>3263 rows × 4 columns</p>\n",
       "</div>"
      ],
      "text/plain": [
       "         id target                                               text  \\\n",
       "0         0      1                 Just happened a terrible car crash   \n",
       "1         2      0  Heard about #earthquake is different cities, s...   \n",
       "2         3      1  there is a forest fire at spot pond, geese are...   \n",
       "3         9      0           Apocalypse lighting. #Spokane #wildfires   \n",
       "4        11      1      Typhoon Soudelor kills 28 in China and Taiwan   \n",
       "...     ...    ...                                                ...   \n",
       "3258  10861      0  EARTHQUAKE SAFETY LOS ANGELES ÛÒ SAFETY FASTE...   \n",
       "3259  10865      0  Storm in RI worse than last hurricane. My city...   \n",
       "3260  10868      1  Green Line derailment in Chicago http://t.co/U...   \n",
       "3261  10874      1  MEG issues Hazardous Weather Outlook (HWO) htt...   \n",
       "3262  10875      1  #CityofCalgary has activated its Municipal Eme...   \n",
       "\n",
       "      confidence  \n",
       "0       0.957635  \n",
       "1       0.582115  \n",
       "2       0.726500  \n",
       "3       0.818285  \n",
       "4       0.968380  \n",
       "...          ...  \n",
       "3258    0.824930  \n",
       "3259    0.587110  \n",
       "3260    0.997382  \n",
       "3261    0.956606  \n",
       "3262    0.660768  \n",
       "\n",
       "[3263 rows x 4 columns]"
      ]
     },
     "execution_count": 33,
     "metadata": {},
     "output_type": "execute_result"
    }
   ],
   "source": [
    "submission_df = pd.DataFrame(columns=[\"id\", \"target\"])\n",
    "submission_df.set_index(\"id\")\n",
    "\n",
    "test_df = pd.read_csv(\"../data/test.csv\")\n",
    "\n",
    "for index, row in test_df.iterrows():\n",
    "    text = row[\"text\"].strip().replace('\\n', ' ')\n",
    "\n",
    "    prediction = model.predict(text)\n",
    "    \n",
    "    target = 0\n",
    "    if prediction[0][0] == \"__label__disaster\":\n",
    "        target = 1\n",
    "\n",
    "    entry = {\"id\": row[\"id\"], \"target\": target, \"text\": text, \"confidence\": prediction[1][0]}\n",
    "    submission_df = pd.concat([submission_df, pd.DataFrame([entry])], ignore_index=True)\n",
    "\n",
    "submission_df"
   ]
  },
  {
   "cell_type": "code",
   "execution_count": 34,
   "metadata": {},
   "outputs": [],
   "source": [
    "submission_df.drop(\"text\", axis=1)\n",
    "submission_df.drop(\"confidence\", axis=1)\n",
    "submission_df.to_csv(f\"../data/{MODEL_NAME}_submission.csv\", index=False)"
   ]
  }
 ],
 "metadata": {
  "kernelspec": {
   "display_name": "venv",
   "language": "python",
   "name": "python3"
  },
  "language_info": {
   "codemirror_mode": {
    "name": "ipython",
    "version": 3
   },
   "file_extension": ".py",
   "mimetype": "text/x-python",
   "name": "python",
   "nbconvert_exporter": "python",
   "pygments_lexer": "ipython3",
   "version": "3.8.10"
  },
  "orig_nbformat": 4
 },
 "nbformat": 4,
 "nbformat_minor": 2
}
